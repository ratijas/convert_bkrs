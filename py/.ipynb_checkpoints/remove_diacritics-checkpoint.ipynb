{
 "metadata": {
  "name": "",
  "signature": "sha256:b5aed72d7c2738b6e8ff23486b7c4de93b4a50d6a767d6b09edbef87410b5dd5"
 },
 "nbformat": 3,
 "nbformat_minor": 0,
 "worksheets": [
  {
   "cells": [
    {
     "cell_type": "heading",
     "level": 1,
     "metadata": {},
     "source": [
      "{}.get & ''.join vs. re.sub"
     ]
    },
    {
     "cell_type": "heading",
     "level": 2,
     "metadata": {},
     "source": [
      "get & join"
     ]
    },
    {
     "cell_type": "code",
     "collapsed": false,
     "input": [
      "def remove_diacritics_get_join():\n",
      "    diacritics = {\n",
      "        u'a': u'\u0101\u00e1\u01ce\u0103\u00e0',\n",
      "        u'e': u'\u0113\u00e9\u011b\u00e8',\n",
      "        u'o': u'\u014d\u00f3\u01d2\u00f2',\n",
      "        u'u': u'\u016b\u00fa\u01d4\u00f9\u01d6\u01d8\u01da\u01dc',\n",
      "        u'i': u'\u012b\u00ed\u01d0\u00ec'\n",
      "    }\n",
      "    diacritics = {diacr: normal \\\n",
      "                  for normal, diacrs in diacritics.iteritems() \\\n",
      "                  for diacr in diacrs}\n",
      "    from u import u\n",
      "    def remove_diacritics(s):\n",
      "        return \"\".join((diacritics.get(c, c) for c in u(s)))\n",
      "    return remove_diacritics\n",
      "remove_diacritics_get_join = remove_diacritics_get_join()"
     ],
     "language": "python",
     "metadata": {},
     "outputs": [],
     "prompt_number": 1
    },
    {
     "cell_type": "heading",
     "level": 2,
     "metadata": {},
     "source": [
      "re.sub"
     ]
    },
    {
     "cell_type": "code",
     "collapsed": false,
     "input": [
      "def remove_diacritics_re():\n",
      "    # ---- \u0441\u0442\u0430\u0442\u0438\u0447\u0435\u0441\u043a\u0438\u0435 \u043f\u0435\u0440\u0435\u043c\u0435\u043d\u043d\u044b\u0435\n",
      "    diactris_table = (\n",
      "        (re.compile(u'[\u0101\u00e1\u01ce\u0103\u00e0]',   re.UNICODE), u'a'),\n",
      "        (re.compile(u'[\u0113\u00e9\u011b\u00e8]',    re.UNICODE), u'e'),\n",
      "        (re.compile(u'[\u014d\u00f3\u01d2\u00f2]',    re.UNICODE), u'o'),\n",
      "        (re.compile(u'[\u016b\u00fa\u01d4\u00f9\u01d6\u01d8\u01da\u01dc]',re.UNICODE), u'u'),\n",
      "        (re.compile(u'[\u012b\u00ed\u01d0\u00ec]',    re.UNICODE), u'i')\n",
      "    )\n",
      "    from u import u\n",
      "    def remove_diacritics(s):\n",
      "        '\u0443\u0431\u0438\u0440\u0430\u0435\u0442 \u0442\u043e\u043d\u0430 (\u0434\u0438\u0430\u043a\u0440\u0438\u0442\u0438\u043a\u0438) \u0441 \u0433\u043b\u0430\u0441\u043d\u044b\u0445 a, e, o, i, u'\n",
      "        plain = u(s).lower()\n",
      "        for regex, subs in diactris_table:\n",
      "            plain = re.sub(regex, subs, plain)\n",
      "        return plain\n",
      "    return remove_diacritics\n",
      "remove_diacritics_re = remove_diacritics_re()"
     ],
     "language": "python",
     "metadata": {},
     "outputs": [],
     "prompt_number": 2
    },
    {
     "cell_type": "heading",
     "level": 2,
     "metadata": {},
     "source": [
      "timing"
     ]
    },
    {
     "cell_type": "code",
     "collapsed": false,
     "input": [
      "import timeit\n",
      "\n",
      "s = u'b\u01ceiw\u00e9n b\u00f9r\u00fa y\u012bji\u00e0n // f\u0101ng\u2019\u00e0n // f\u01ceng\u00e1n // x\u00faniang'\n",
      "\n",
      "print timeit.timeit(lambda: remove_diacritics_get_join(s))\n",
      "print timeit.timeit(lambda: remove_diacritics_re(s))"
     ],
     "language": "python",
     "metadata": {},
     "outputs": [
      {
       "output_type": "stream",
       "stream": "stdout",
       "text": [
        "76.8263511658\n",
        "98.601416111"
       ]
      },
      {
       "output_type": "stream",
       "stream": "stdout",
       "text": [
        "\n"
       ]
      }
     ],
     "prompt_number": 5
    },
    {
     "cell_type": "code",
     "collapsed": false,
     "input": [
      "print remove_diacritics_get_join(u'\u016b\u00fa\u01d4\u00f9\u01d6\u01d8\u01da\u01dc')\n",
      "print remove_diacritics_get_join(s)"
     ],
     "language": "python",
     "metadata": {},
     "outputs": [
      {
       "output_type": "stream",
       "stream": "stdout",
       "text": [
        "uuuuuuuu\n",
        "baiwen buru yijian // fang\u2019an // fangan // xuniang\n"
       ]
      }
     ],
     "prompt_number": 6
    }
   ],
   "metadata": {}
  }
 ]
}