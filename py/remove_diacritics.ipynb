{
 "metadata": {
  "name": "",
  "signature": "sha256:d44ffc0ef2970f5f9170d156bf6f6ed3fa7b5a69b355d4ca173669df72bdc461"
 },
 "nbformat": 3,
 "nbformat_minor": 0,
 "worksheets": [
  {
   "cells": [
    {
     "cell_type": "heading",
     "level": 1,
     "metadata": {},
     "source": [
      "{}.get & ''.join VS. re.sub VS. ''.replace"
     ]
    },
    {
     "cell_type": "heading",
     "level": 2,
     "metadata": {},
     "source": [
      "get & join"
     ]
    },
    {
     "cell_type": "code",
     "collapsed": false,
     "input": [
      "def remove_diacritics_get_join():\n",
      "    # ---- \u0441\u0442\u0430\u0442\u0438\u0447\u0435\u0441\u043a\u0438\u0435 \u043f\u0435\u0440\u0435\u043c\u0435\u043d\u043d\u044b\u0435\n",
      "    diacritics = {\n",
      "        u'a': u'\u0101\u00e1\u01ce\u0103\u00e0',\n",
      "        u'e': u'\u0113\u00e9\u011b\u00e8',\n",
      "        u'o': u'\u014d\u00f3\u01d2\u00f2',\n",
      "        u'u': u'\u016b\u00fa\u01d4\u00f9\u01d6\u01d8\u01da\u01dc',\n",
      "        u'i': u'\u012b\u00ed\u01d0\u00ec'\n",
      "    }\n",
      "    diacritics = {diacr: normal \\\n",
      "                  for normal, diacrs in diacritics.iteritems() \\\n",
      "                  for diacr in diacrs}\n",
      "    from u import u\n",
      "    def remove_diacritics(s):\n",
      "        return \"\".join((diacritics.get(c, c) for c in u(s)))\n",
      "    return remove_diacritics\n",
      "remove_diacritics_get_join = remove_diacritics_get_join()"
     ],
     "language": "python",
     "metadata": {},
     "outputs": [
      {
       "output_type": "stream",
       "stream": "stdout",
       "text": [
        "\n"
       ]
      }
     ],
     "prompt_number": 2
    },
    {
     "cell_type": "heading",
     "level": 2,
     "metadata": {},
     "source": [
      "re.sub"
     ]
    },
    {
     "cell_type": "code",
     "collapsed": false,
     "input": [
      "def remove_diacritics_re():\n",
      "    # ---- \u0441\u0442\u0430\u0442\u0438\u0447\u0435\u0441\u043a\u0438\u0435 \u043f\u0435\u0440\u0435\u043c\u0435\u043d\u043d\u044b\u0435\n",
      "    diactris_table = (\n",
      "        (re.compile(u'[\u0101\u00e1\u01ce\u0103\u00e0]',   re.UNICODE), u'a'),\n",
      "        (re.compile(u'[\u0113\u00e9\u011b\u00e8]',    re.UNICODE), u'e'),\n",
      "        (re.compile(u'[\u014d\u00f3\u01d2\u00f2]',    re.UNICODE), u'o'),\n",
      "        (re.compile(u'[\u016b\u00fa\u01d4\u00f9\u01d6\u01d8\u01da\u01dc]',re.UNICODE), u'u'),\n",
      "        (re.compile(u'[\u012b\u00ed\u01d0\u00ec]',    re.UNICODE), u'i')\n",
      "    )\n",
      "    from u import u\n",
      "    def remove_diacritics(s):\n",
      "        '\u0443\u0431\u0438\u0440\u0430\u0435\u0442 \u0442\u043e\u043d\u0430 (\u0434\u0438\u0430\u043a\u0440\u0438\u0442\u0438\u043a\u0438) \u0441 \u0433\u043b\u0430\u0441\u043d\u044b\u0445 a, e, o, i, u'\n",
      "        plain = u(s).lower()\n",
      "        for regex, subs in diactris_table:\n",
      "            plain = re.sub(regex, subs, plain)\n",
      "        return plain\n",
      "    return remove_diacritics\n",
      "remove_diacritics_re = remove_diacritics_re()"
     ],
     "language": "python",
     "metadata": {},
     "outputs": [],
     "prompt_number": 3
    },
    {
     "cell_type": "heading",
     "level": 2,
     "metadata": {},
     "source": [
      "''.replace"
     ]
    },
    {
     "cell_type": "code",
     "collapsed": false,
     "input": [
      "def remove_diacritics_replace():\n",
      "    # ---- \u0441\u0442\u0430\u0442\u0438\u0447\u0435\u0441\u043a\u0438\u0435 \u043f\u0435\u0440\u0435\u043c\u0435\u043d\u043d\u044b\u0435\n",
      "    diacritics = (\n",
      "        (u'\u0101\u00e1\u01ce\u0103\u00e0',    u'a'),\n",
      "        (u'\u0113\u00e9\u011b\u00e8',     u'e'),\n",
      "        (u'\u014d\u00f3\u01d2\u00f2',     u'o'),\n",
      "        (u'\u016b\u00fa\u01d4\u00f9\u01d6\u01d8\u01da\u01dc', u'u'),\n",
      "        (u'\u012b\u00ed\u01d0\u00ec',     u'i')\n",
      "    )\n",
      "    from u import u\n",
      "    def remove_diacritics(s):\n",
      "        s = u(s)\n",
      "        for diacrs, normal in diacritics:\n",
      "            for diacr in diacrs:\n",
      "                s = s.replace(diacr, normal)\n",
      "        return s\n",
      "    return remove_diacritics\n",
      "remove_diacritics_replace = remove_diacritics_replace()"
     ],
     "language": "python",
     "metadata": {},
     "outputs": [],
     "prompt_number": 4
    },
    {
     "cell_type": "heading",
     "level": 2,
     "metadata": {},
     "source": [
      "quick basic test"
     ]
    },
    {
     "cell_type": "code",
     "collapsed": false,
     "input": [
      "print remove_diacritics_get_join(s)\n",
      "print remove_diacritics_re(s)\n",
      "print remove_diacritics_replace(s)"
     ],
     "language": "python",
     "metadata": {},
     "outputs": [
      {
       "output_type": "stream",
       "stream": "stdout",
       "text": [
        "baiwen buru yijian // fang\u2019an // fangan // xuniang\n",
        "baiwen buru yijian // fang\u2019an // fangan // xuniang"
       ]
      },
      {
       "output_type": "stream",
       "stream": "stdout",
       "text": [
        "\n",
        "baiwen buru yijian // fang\u2019an // fangan // xuniang\n"
       ]
      }
     ],
     "prompt_number": 5
    },
    {
     "cell_type": "heading",
     "level": 2,
     "metadata": {},
     "source": [
      "timing"
     ]
    },
    {
     "cell_type": "code",
     "collapsed": false,
     "input": [
      "import timeit\n",
      "\n",
      "s = u'b\u01ceiw\u00e9n b\u00f9r\u00fa y\u012bji\u00e0n // f\u0101ng\u2019\u00e0n // f\u01ceng\u00e1n // x\u00faniang'\n",
      "\n",
      "print \"get-join\", timeit.timeit(lambda: remove_diacritics_get_join(s))\n",
      "print \"re.sub  \", timeit.timeit(lambda: remove_diacritics_re(s))\n",
      "print \"replace \", timeit.timeit(lambda: remove_diacritics_replace(s))"
     ],
     "language": "python",
     "metadata": {},
     "outputs": [
      {
       "output_type": "stream",
       "stream": "stdout",
       "text": [
        "get-join "
       ]
      },
      {
       "output_type": "stream",
       "stream": "stdout",
       "text": [
        "44.8303158283\n",
        "re.sub   "
       ]
      },
      {
       "output_type": "stream",
       "stream": "stdout",
       "text": [
        "100.908545017\n",
        "replace  "
       ]
      },
      {
       "output_type": "stream",
       "stream": "stdout",
       "text": [
        "40.9953830242\n"
       ]
      }
     ],
     "prompt_number": 6
    }
   ],
   "metadata": {}
  }
 ]
}